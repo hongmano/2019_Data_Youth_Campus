{
 "cells": [
  {
   "cell_type": "markdown",
   "metadata": {
    "colab_type": "text",
    "id": "nOK4_kgnob8e"
   },
   "source": [
    "#### 웹툰 크롤링 이미지\n",
    "- 690 x 1600 크기의 image"
   ]
  },
  {
   "cell_type": "markdown",
   "metadata": {
    "colab_type": "text",
    "id": "v7yMf_T2ob8g"
   },
   "source": [
    "https://sosal.kr/1067"
   ]
  },
  {
   "cell_type": "code",
   "execution_count": 1,
   "metadata": {
    "colab": {},
    "colab_type": "code",
    "collapsed": true,
    "id": "GiNjZq-Wob8h"
   },
   "outputs": [],
   "source": [
    "import cv2\n",
    "import numpy as np\n",
    "import imutils\n",
    "import os"
   ]
  },
  {
   "cell_type": "code",
   "execution_count": 2,
   "metadata": {
    "colab": {},
    "colab_type": "code",
    "collapsed": true,
    "id": "4XoXHWbYob8l"
   },
   "outputs": [],
   "source": [
    "# 한글이 포함된 파일경로에 대해 Mac에서만 동작, Windows에는 동작하지 않는 경우.\n",
    "# 1. open()함수 이용 -> filepath를 인코딩한 파일을 바이트로 읽음\n",
    "# 2. bytearray타입으로 바이트 읽음\n",
    "# 3. bytearray를 numpy array로 convert\n",
    "# cv2.imdecode -> Mac에서 imread를 통해 읽었던 결과와 같은 값 반환\n",
    "def hangul_file_path(filepath):\n",
    "    stream = open(filepath.encode(\"utf-8\"), \"rb\")\n",
    "    byte = bytearray(stream.read())\n",
    "    numpy_array = np.asarray(byte, dtype=np.uint8)\n",
    "    \n",
    "    return cv2.imdecode(numpy_array, cv2.IMREAD_UNCHANGED)"
   ]
  },
  {
   "cell_type": "code",
   "execution_count": 3,
   "metadata": {
    "colab": {},
    "colab_type": "code",
    "collapsed": true,
    "id": "REiBZjVzob8o"
   },
   "outputs": [],
   "source": [
    "# 모양을 구분해주는 Detector. shape을 반환.\n",
    "class ShapeDetector:\n",
    "    def __init__(self):\n",
    "        pass\n",
    "\n",
    "    def detect(self, c):\n",
    "    # initialize the shape name and approximate the contour\n",
    "        shape = \"unidentified\"\n",
    "        # arcLength: 컨투어의 둘레\n",
    "        peri = cv2.arcLength(c, True)\n",
    "        # approxPolyDP: \n",
    "        # c: 컨투어 포인트 배열\n",
    "        # 0.04*peri: 실제 컨투어 라인과 근사치의 최대거리\n",
    "        #  -> 0.01이면 실제 컨투어 라인과 아주 근사\n",
    "        #  -> 0.05면 투박\n",
    "        # True: 폐곡선 여부\n",
    "        approx = cv2.approxPolyDP(c, 0.04 * peri, True)\n",
    "        \n",
    "        # 꼭지점 3개면 삼각형\n",
    "        if len(approx) == 3:\n",
    "            shape = \"triangle\"\n",
    "\n",
    "        # 꼭지점 4개면 사각형\n",
    "        elif len(approx) == 4:\n",
    "            # compute the bounding box of the contour and use the\n",
    "            # bounding box to compute the aspect ratio\n",
    "            # boundingRect: 컨투어 라인을 둘러싸는 사각형을 그리는 방법 중 1개\n",
    "            #  ->물체의 회전은 고려하지 않은 사각형. 고려하고 싶으면 minAreaRect\n",
    "            (x, y, w, h) = cv2.boundingRect(approx)\n",
    "            ar = w / float(h)\n",
    "\n",
    "            # 가로세로 비율이 1에 가까우면 정사각형, 아니면 직사각형\n",
    "            shape = \"square\" if ar >= 0.95 and ar <= 1.05 else \"rectangle\"\n",
    "\n",
    "        # 꼭지점 5개면 오각형\n",
    "        elif len(approx) == 5:\n",
    "            shape = \"pentagon\"\n",
    "        \n",
    "        # 꼭지점 3, 4, 5 아니면 원\n",
    "        else:\n",
    "            shape = \"circle\"\n",
    "\n",
    "        # shpae이 무엇인지 return\n",
    "        return shape"
   ]
  },
  {
   "cell_type": "code",
   "execution_count": 8,
   "metadata": {
    "colab": {},
    "colab_type": "code",
    "collapsed": true,
    "id": "9K8K3JI2ob8r"
   },
   "outputs": [],
   "source": [
    "def image_segmentation(fname):\n",
    "    #image = cv2.imread(fname, 0)\n",
    "    image = hangul_file_path(fname)\n",
    "    # 이미지 흑백화\n",
    "    image_gray = cv2.cvtColor(image, cv2.COLOR_BGR2GRAY)\n",
    "    # 가우시안 블러\n",
    "    image_gray_blurred = cv2.GaussianBlur(image_gray, (5, 5), 0)\n",
    "    # threshing\n",
    "    ret,thresh2 = cv2.threshold(image_gray_blurred,127,255,cv2.THRESH_BINARY_INV)\n",
    "    \n",
    "    sd = ShapeDetector()\n",
    "    cnts = cv2.findContours(thresh2.copy(), cv2.RETR_EXTERNAL,cv2.CHAIN_APPROX_SIMPLE)\n",
    "    #cnts = cnts[0] if imutils.is_cv2() else cnts[1]\n",
    "    \n",
    "    count = 0\n",
    "    for c in cnts[0]:\n",
    "        if sd.detect(c) != 'rectangle': \n",
    "            next\n",
    "        c = c.astype(\"float\")\n",
    "        c = c.astype(\"int\")\n",
    "        x, y, w, h = cv2.boundingRect(c)\n",
    "\n",
    "        if not (300 < w and 300 < h): \n",
    "            #print(\"skip\" + str(w) + \" - \" + str(h))\n",
    "            continue\n",
    "            \n",
    "        new_folder = fname.split('\\\\')[-2]\n",
    "        image_name = fname.split('\\\\')[-1]\n",
    "        \n",
    "        # 각 웹툰명에 해당하는 폴더가 없으면, 폴더 생성.\n",
    "        if not os.path.exists('webtoon_result\\최강자전\\{}'.format(new_folder)):\n",
    "            os.makedirs('webtoon_result\\최강자전\\{}'.format(new_folder))\n",
    "            \n",
    "        count = count+1\n",
    "        #print(\"webtoon_result/네이버/{}/result_{}{}.jpg\".format(new_folder, image_name[-20:-4], str(count)))\n",
    "        #cv2.imwrite(\"webtoon_result/네이버/{}/result_{}{}.jpg\".format(new_folder, fname[-20:-4], str(count)), image[y: y + h, x: x + w])\n",
    "        #dst = cv2.flip(image[y: y + h, x: x + w], flipCode=1)  # 이미지 좌우 반전\n",
    "        \n",
    "        # opencv는 한글경로 지원되지 않음. 해결\n",
    "        retval, buffer = cv2.imencode('.jpg', image[y: y + h, x: x + w])\n",
    "        if (retval):\n",
    "            with open(\"webtoon_result/최강자전/{}/result_{}{}.jpg\".format(new_folder, image_name[-20:-4], str(count)), 'wb') as f_writer:\n",
    "                f_writer.write(buffer)"
   ]
  },
  {
   "cell_type": "code",
   "execution_count": 9,
   "metadata": {
    "colab": {},
    "colab_type": "code",
    "id": "S7JYz28sob8v",
    "scrolled": true
   },
   "outputs": [],
   "source": [
    "for root, dirs, files in os.walk('Crawled\\최강자전 웹툰'):\n",
    "    for fname in files:\n",
    "        full_fname = os.path.join(root, fname)\n",
    "        #print(full_fname)\n",
    "        image_segmentation(full_fname)"
   ]
  },
  {
   "cell_type": "code",
   "execution_count": 0,
   "metadata": {
    "colab": {},
    "colab_type": "code",
    "collapsed": true,
    "id": "ojkeWTtmocA5"
   },
   "outputs": [],
   "source": []
  }
 ],
 "metadata": {
  "accelerator": "GPU",
  "colab": {
   "collapsed_sections": [],
   "name": "openCV-image_segmentation_webtoon_Real.ipynb",
   "provenance": [],
   "version": "0.3.2"
  },
  "kernelspec": {
   "display_name": "Python 3",
   "language": "python",
   "name": "python3"
  },
  "language_info": {
   "codemirror_mode": {
    "name": "ipython",
    "version": 3
   },
   "file_extension": ".py",
   "mimetype": "text/x-python",
   "name": "python",
   "nbconvert_exporter": "python",
   "pygments_lexer": "ipython3",
   "version": "3.6.2"
  }
 },
 "nbformat": 4,
 "nbformat_minor": 1
}
